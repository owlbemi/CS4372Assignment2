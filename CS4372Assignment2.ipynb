{
 "nbformat": 4,
 "nbformat_minor": 0,
 "metadata": {
  "colab": {
   "provenance": [],
   "authorship_tag": "ABX9TyO2KO484mCrn2UqRwcQQH8E",
   "include_colab_link": true
  },
  "kernelspec": {
   "name": "python3",
   "display_name": "Python 3"
  },
  "language_info": {
   "name": "python"
  }
 },
 "cells": [
  {
   "cell_type": "markdown",
   "metadata": {
    "id": "view-in-github",
    "colab_type": "text"
   },
   "source": "<a href=\"https://colab.research.google.com/github/owlbemi/CS4372Assignment2/blob/main/CS4372Assignment2.ipynb\" target=\"_parent\"><img src=\"https://colab.research.google.com/assets/colab-badge.svg\" alt=\"Open In Colab\"/></a>"
  },
  {
   "metadata": {},
   "cell_type": "markdown",
   "source": [
    "# Assignment 2\n",
    "## CS4372.501\n",
    "### Jake Lee, Ysabella Salas\n",
    "### 20th Sep 2024"
   ]
  },
  {
   "cell_type": "code",
   "execution_count": null,
   "metadata": {
    "id": "JGNHfSfOUU4r"
   },
   "outputs": [],
   "source": [
    "from sklearn.preprocessing import StandardScaler\n",
    "from category_encoders import TargetEncoder\n",
    "import pandas as pd\n",
    "import seaborn as sns"
   ]
  },
  {
   "metadata": {},
   "cell_type": "code",
   "outputs": [],
   "execution_count": null,
   "source": [
    "# Read csv file\n",
    "obese_df = pd.read_csv(\"https://raw.githubusercontent.com/owlbemi/CS4372Assignment2/main/ObesityDataSet_raw_and_data_sinthetic.csv\")"
   ]
  },
  {
   "metadata": {},
   "cell_type": "code",
   "outputs": [],
   "execution_count": null,
   "source": [
    "# Dataset head\n",
    "obese_df.head()"
   ]
  },
  {
   "metadata": {},
   "cell_type": "code",
   "outputs": [],
   "execution_count": null,
   "source": [
    "# Check for null values\n",
    "obese_df.isna().sum()"
   ]
  },
  {
   "metadata": {},
   "cell_type": "code",
   "outputs": [],
   "execution_count": null,
   "source": [
    "# Split data into features and target\n",
    "y = obese_df[\"NObeyesdad\"]\n",
    "X = obese_df.drop(\"NObeyesdad\", axis=1)\n",
    "\n",
    "# Use Target Encoding to convert categorical features\n",
    "encoder = TargetEncoder(cols=[\"Gender\",\"family_history_with_overweight\",\"FAVC\",\"CAEC\",\"SMOKE\",\"SCC\",\"CALC\",\"MTRANS\"])\n",
    "X_encoded = encoder.fit_transform(obese_df,y)"
   ]
  },
  {
   "metadata": {},
   "cell_type": "code",
   "outputs": [],
   "execution_count": null,
   "source": [
    "# Convert categorical features to numerical\n",
    "obese_df[\"Gender\"] = obese_df.Gender.astype('category')\n",
    "obese_df[\"family_history_with_overweight\"] = obese_df.family_history_with_overweight.astype('category')\n",
    "obese_df[\"FAVC\"] = obese_df.FAVC.astype('category')\n",
    "obese_df[\"CAEC\"] = obese_df.CAEC.astype('category')\n",
    "obese_df[\"SMOKE\"] = obese_df.SMOKE.astype('category')\n",
    "obese_df[\"SCC\"] = obese_df.SCC.astype('category')\n",
    "obese_df[\"CALC\"] = obese_df.CALC.astype('category')\n",
    "obese_df[\"MTRANS\"] = obese_df.MTRANS.astype('category')\n",
    "obese_df[\"NObeyesdad\"] = obese_df.NObeyesdad.astype('category')"
   ]
  },
  {
   "metadata": {},
   "cell_type": "code",
   "outputs": [],
   "execution_count": null,
   "source": [
    "# Check mean and standard deviation for each feature\n",
    "obese_df.describe()"
   ]
  },
  {
   "metadata": {},
   "cell_type": "code",
   "outputs": [],
   "execution_count": null,
   "source": [
    "# Standardize dataset\n",
    "scaler = StandardScaler()\n",
    "y = obese_df[\"NObeyesdad\"]\n",
    "X = obese_df.drop([\"NObeyesdad\", \"Gender\", \"family_history_with_overweight\", \"FAVC\", \"CAEC\", \"SMOKE\", \"SCC\", \"CALC\",\n",
    "                   \"MTRANS\"], axis=1)\n",
    "X_scaled = scaler.fit_transform(X)"
   ]
  },
  {
   "metadata": {},
   "cell_type": "code",
   "outputs": [],
   "execution_count": null,
   "source": [
    "# Check mean and standard deviation of scaled features\n",
    "X_scaled = pd.DataFrame(X_scaled, columns=X.columns)\n",
    "X_scaled.describe()"
   ]
  },
  {
   "metadata": {},
   "cell_type": "code",
   "outputs": [],
   "execution_count": null,
   "source": [
    "# Create a correlation heatmap\n",
    "corr_matrix = obese_df.corr().round(2)\n",
    "sns.heatmap(data=corr_matrix,annot=True)"
   ]
  },
  {
   "metadata": {},
   "cell_type": "code",
   "outputs": [],
   "execution_count": null,
   "source": "obese_df.info()"
  }
 ]
}
